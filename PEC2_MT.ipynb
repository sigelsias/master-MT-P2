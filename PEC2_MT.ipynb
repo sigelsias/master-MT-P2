{
  "nbformat": 4,
  "nbformat_minor": 0,
  "metadata": {
    "colab": {
      "provenance": []
    },
    "kernelspec": {
      "name": "python3",
      "display_name": "Python 3"
    },
    "language_info": {
      "name": "python"
    }
  },
  "cells": [
    {
      "cell_type": "markdown",
      "source": [
        "# Práctica 2. MT. Sabela Iglesias"
      ],
      "metadata": {
        "id": "K1AJ5DhbcfDQ"
      }
    },
    {
      "cell_type": "markdown",
      "source": [
        "### Preparativos"
      ],
      "metadata": {
        "id": "uTX8SIdEiv72"
      }
    },
    {
      "cell_type": "code",
      "source": [
        "import os\n",
        "import numpy as np\n",
        "import spacy\n",
        "from sklearn.cluster import AgglomerativeClustering, KMeans\n",
        "from sklearn.feature_extraction.text import CountVectorizer,TfidfVectorizer\n",
        "from sklearn.metrics import confusion_matrix, classification_report\n",
        "from scipy.optimize import linear_sum_assignment\n",
        "import re\n",
        "import chardet"
      ],
      "metadata": {
        "id": "hNi5cAXhJU18"
      },
      "execution_count": 12,
      "outputs": []
    },
    {
      "cell_type": "code",
      "source": [
        "!git clone https://github.com/sigelsias/master-MT-P2.git"
      ],
      "metadata": {
        "colab": {
          "base_uri": "https://localhost:8080/"
        },
        "id": "tXfzVWhoi3EE",
        "outputId": "57deb678-4ba5-455f-ffd6-7e16c13b7387"
      },
      "execution_count": 13,
      "outputs": [
        {
          "output_type": "stream",
          "name": "stdout",
          "text": [
            "fatal: destination path 'master-MT-P2' already exists and is not an empty directory.\n"
          ]
        }
      ]
    },
    {
      "cell_type": "code",
      "source": [
        "src_dir = '/content/master-MT-P2/Corpus-Clustering'\n",
        "processed_dir = '/content/master-MT-P2/processed-data'"
      ],
      "metadata": {
        "id": "MlTbDCgYi9U4"
      },
      "execution_count": 14,
      "outputs": []
    },
    {
      "cell_type": "code",
      "source": [
        "def detect_encoding(file_path):\n",
        "    with open(file_path, 'rb') as file:\n",
        "        raw_data = file.read(10000)\n",
        "        result = chardet.detect(raw_data)\n",
        "        return result['encoding']\n",
        "\n",
        "def count_words(file_path):\n",
        "    try:\n",
        "        encoding = detect_encoding(file_path)\n",
        "        with open(file_path, 'r', encoding=encoding, errors='ignore') as file:\n",
        "            text = file.read()\n",
        "            words = text.split()\n",
        "            return len(words)\n",
        "    except Exception as e:\n",
        "        print(f\"Error al procesar el archivo {file_path}: {e}\")\n",
        "        return 0\n",
        "\n",
        "def describe_collection(root_path):\n",
        "    if not os.path.exists(root_path):\n",
        "        print(f\"La ruta {root_path} no existe.\")\n",
        "        return\n",
        "\n",
        "    stats_by_group = {}\n",
        "\n",
        "    for group_name in os.listdir(root_path):\n",
        "        group_path = os.path.join(root_path, group_name)\n",
        "\n",
        "        if os.path.isdir(group_path):\n",
        "\n",
        "            file_lengths = []\n",
        "            for filename in os.listdir(group_path):\n",
        "                file_path = os.path.join(group_path, filename)\n",
        "                if os.path.isfile(file_path):\n",
        "                    word_count = count_words(file_path)\n",
        "                    file_lengths.append(word_count)\n",
        "\n",
        "            if file_lengths:\n",
        "                num_documents = len(file_lengths)\n",
        "                mean_words = np.mean(file_lengths)\n",
        "                std_words = np.std(file_lengths)\n",
        "            else:\n",
        "                num_documents = 0\n",
        "                mean_words = 0\n",
        "                std_words = 0\n",
        "\n",
        "            stats_by_group[group_name] = {\n",
        "                'num_documents': num_documents,\n",
        "                'mean_words': mean_words,\n",
        "                'std_words': std_words\n",
        "            }\n",
        "\n",
        "    # Mostrar los resultados\n",
        "    for group, stats in stats_by_group.items():\n",
        "        print(f\"Grupo: {group}\")\n",
        "        print(f\"Número de documentos: {stats['num_documents']}\")\n",
        "        print(f\"Número medio de palabras: {stats['mean_words']:.2f}\")\n",
        "        print(f\"Desviación estándar de palabras: {stats['std_words']:.2f}\")\n",
        "        print(\"-\" * 50)\n",
        "\n",
        "describe_collection(src_dir)\n"
      ],
      "metadata": {
        "colab": {
          "base_uri": "https://localhost:8080/"
        },
        "id": "qYKIPHt1BPBY",
        "outputId": "529c92a4-d438-40a4-e668-c1db4d41ac0a"
      },
      "execution_count": 15,
      "outputs": [
        {
          "output_type": "stream",
          "name": "stdout",
          "text": [
            "Grupo: talk.politics.mideast\n",
            "Número de documentos: 72\n",
            "Número medio de palabras: 726.88\n",
            "Desviación estándar de palabras: 1321.51\n",
            "--------------------------------------------------\n",
            "Grupo: sci.electronics\n",
            "Número de documentos: 211\n",
            "Número medio de palabras: 265.78\n",
            "Desviación estándar de palabras: 807.43\n",
            "--------------------------------------------------\n",
            "Grupo: comp.sys.mac.hardware\n",
            "Número de documentos: 146\n",
            "Número medio de palabras: 184.38\n",
            "Desviación estándar de palabras: 108.42\n",
            "--------------------------------------------------\n",
            "Grupo: rec.autos\n",
            "Número de documentos: 61\n",
            "Número medio de palabras: 216.21\n",
            "Desviación estándar de palabras: 170.52\n",
            "--------------------------------------------------\n",
            "Grupo: rec.sport.hockey\n",
            "Número de documentos: 50\n",
            "Número medio de palabras: 273.88\n",
            "Desviación estándar de palabras: 265.68\n",
            "--------------------------------------------------\n",
            "Grupo: comp.sys.ibm.pc.hardware\n",
            "Número de documentos: 124\n",
            "Número medio de palabras: 247.70\n",
            "Desviación estándar de palabras: 373.05\n",
            "--------------------------------------------------\n",
            "Grupo: talk.politics.guns\n",
            "Número de documentos: 141\n",
            "Número medio de palabras: 414.33\n",
            "Desviación estándar de palabras: 473.05\n",
            "--------------------------------------------------\n"
          ]
        }
      ]
    },
    {
      "cell_type": "markdown",
      "source": [
        "### Preprocesamiento\n",
        "\n"
      ],
      "metadata": {
        "id": "GAcRMCTO8-TG"
      }
    },
    {
      "cell_type": "code",
      "source": [
        "#! python -m spacy download en"
      ],
      "metadata": {
        "id": "JkvZl5Sw9BTh",
        "collapsed": true
      },
      "execution_count": 16,
      "outputs": []
    },
    {
      "cell_type": "code",
      "source": [
        "def preprocess_text(text):\n",
        "    # Eliminar cabeceras (hasta la primera línea en blanco)\n",
        "    if \"\\n\\n\" in text:\n",
        "        text = text.split(\"\\n\\n\", 1)[1]\n",
        "\n",
        "    #Tockenizacion, lematización eliminar stop words\n",
        "    nlp = spacy.load(\"en_core_web_sm\")\n",
        "    doc = nlp(text)\n",
        "    lemas = [token.lemma_ for token in doc if not token.is_stop and not token.is_punct]\n",
        "    text= \" \".join(lemas)\n",
        "    processed_text = text.lower()\n",
        "    return processed_text\n"
      ],
      "metadata": {
        "id": "wQooktpOe8vU"
      },
      "execution_count": 17,
      "outputs": []
    },
    {
      "cell_type": "code",
      "source": [
        "def process_and_save_files(src_dir, dest_dir):\n",
        "    # Crear la carpeta processed-data si no existe\n",
        "    if not os.path.exists(dest_dir):\n",
        "        os.makedirs(dest_dir)\n",
        "\n",
        "    # Recorremos todas las carpetas y archivos dentro de Corpus-Clustering\n",
        "    for root, dirs, files in os.walk(src_dir):\n",
        "        for file in files:\n",
        "            file_path = os.path.join(root, file)\n",
        "\n",
        "            # Intentamos abrir el archivo con una codificación flexible\n",
        "            try:\n",
        "                with open(file_path, 'r', encoding='utf-8') as f:\n",
        "                    text = f.read()\n",
        "            except UnicodeDecodeError:\n",
        "                    with open(file_path, 'r', encoding='ISO-8859-1') as f:\n",
        "                        text = f.read()\n",
        "\n",
        "            # Aplicar preprocesamiento\n",
        "            processed_text = preprocess_text(text)\n",
        "\n",
        "            # Guardamos un archivo con los textos procesados\n",
        "            processed_file_path = os.path.join(dest_dir, file)\n",
        "            with open(processed_file_path, 'w', encoding='utf-8') as f:\n",
        "                f.write(processed_text)"
      ],
      "metadata": {
        "id": "TwXiff4KeqaO"
      },
      "execution_count": 18,
      "outputs": []
    },
    {
      "cell_type": "code",
      "source": [
        "# process_and_save_files(src_dir, processed_dir)\n",
        "print(\"Preprocesamiento completo y archivos guardados en 'processed-data'.\")\n"
      ],
      "metadata": {
        "id": "qMMthdHkfDrL",
        "colab": {
          "base_uri": "https://localhost:8080/"
        },
        "outputId": "5f855dce-5aeb-45b5-a584-4c9b3741859b"
      },
      "execution_count": 19,
      "outputs": [
        {
          "output_type": "stream",
          "name": "stdout",
          "text": [
            "Preprocesamiento completo y archivos guardados en 'processed-data'.\n"
          ]
        }
      ]
    },
    {
      "cell_type": "markdown",
      "source": [
        "### Procesar golden standar"
      ],
      "metadata": {
        "id": "H4gtiWslQtzL"
      }
    },
    {
      "cell_type": "code",
      "source": [
        "class text_class:\n",
        "    def __init__(self, id, clase):\n",
        "        self.id = id\n",
        "        self.clase = clase\n",
        "\n",
        "    def __repr__(self):\n",
        "        return f\"text_class(id='{self.id}', clase='{self.clase}')\"\n",
        "\n",
        "golden_standard = []\n",
        "\n",
        "src_dir = \"/content/master-MT-P2/Corpus-Clustering\"  # Asegúrate de definir la ruta correcta\n",
        "for root, dirs, files in os.walk(src_dir):\n",
        "    for file in files:\n",
        "        file_path = os.path.join(root, file)\n",
        "\n",
        "        try:\n",
        "            with open(file_path, 'r', encoding='utf-8') as f:\n",
        "                text = f.read()\n",
        "        except UnicodeDecodeError:\n",
        "            # Si hay un error, intenta con otra codificación (por ejemplo, 'latin-1')\n",
        "            print(f\"Error al leer {file}. Intentando con 'latin-1'.\")\n",
        "            try:\n",
        "                with open(file_path, 'r', encoding='latin-1') as f:\n",
        "                    text = f.read()\n",
        "            except UnicodeDecodeError:\n",
        "                print(f\"No se pudo leer {file} con ninguna codificación.\")\n",
        "                continue  # Si tampoco se puede leer, omite este archivo\n",
        "\n",
        "        # Procesar el texto para asignar la clase\n",
        "        if \"comp.sys.ibm.pc.hardware\" in text:\n",
        "            text_obj = text_class(id=file, clase=\"comp.sys.ibm.pc.hardware\")\n",
        "        elif \"comp.sys.mac.hardware\" in text:\n",
        "            text_obj = text_class(id=file, clase=\"comp.sys.mac.hardware\")\n",
        "        elif \"rec.autos\" in text:\n",
        "            text_obj = text_class(id=file, clase=\"rec.autos\")\n",
        "        elif \"rec.sport.hockey\" in text:\n",
        "            text_obj = text_class(id=file, clase=\"rec.sport.hockey\")\n",
        "        elif \"sci.electronics\" in text:\n",
        "            text_obj = text_class(id=file, clase=\"sci.electronics\")\n",
        "        elif \"talk.politics.guns\" in text:\n",
        "            text_obj = text_class(id=file, clase=\"talk.politics.guns\")\n",
        "        elif \"talk.politics.mideast\" in text:\n",
        "            text_obj = text_class(id=file, clase=\"talk.politics.mideast\")\n",
        "        else:\n",
        "            print(f'Fichero {file} fuera de clases.')\n",
        "            continue\n",
        "        golden_standard.append(text_obj)\n",
        "\n",
        "# Ordenar los objetos por el atributo 'id'\n",
        "golden_standard = sorted(golden_standard, key=lambda x: x.id)\n",
        "\n",
        "# Recorrer los objetos ordenados y extraer el atributo clase\n",
        "golden_labels = [obj.clase for obj in golden_standard]\n",
        "len(golden_labels)\n"
      ],
      "metadata": {
        "colab": {
          "base_uri": "https://localhost:8080/"
        },
        "id": "ETM4_-eUQw06",
        "outputId": "df0ca422-4d27-4385-8f84-43ec2e6f25d6"
      },
      "execution_count": 20,
      "outputs": [
        {
          "output_type": "stream",
          "name": "stdout",
          "text": [
            "Error al leer 101596. Intentando con 'latin-1'.\n"
          ]
        },
        {
          "output_type": "execute_result",
          "data": {
            "text/plain": [
              "805"
            ]
          },
          "metadata": {},
          "execution_count": 20
        }
      ]
    },
    {
      "cell_type": "markdown",
      "source": [
        "### Carga textos procesados\n"
      ],
      "metadata": {
        "id": "5ovyaZj7_o9c"
      }
    },
    {
      "cell_type": "code",
      "source": [
        "ruta_carpeta = \"/content/master-MT-P2/processed-data\"\n",
        "textos = []\n",
        "for archivo in os.listdir(ruta_carpeta):\n",
        "      with open(os.path.join(ruta_carpeta, archivo), \"r\", encoding=\"utf-8\") as f:\n",
        "          textos.append(f.read())\n",
        "print(f\"Se cargaron {len(textos)} textos.\")"
      ],
      "metadata": {
        "colab": {
          "base_uri": "https://localhost:8080/"
        },
        "id": "C10HBy1eMIJ0",
        "outputId": "8011406c-2013-48ab-8204-44a2f68d25e4"
      },
      "execution_count": 21,
      "outputs": [
        {
          "output_type": "stream",
          "name": "stdout",
          "text": [
            "Se cargaron 805 textos.\n"
          ]
        }
      ]
    },
    {
      "cell_type": "markdown",
      "source": [
        "###Evaluación"
      ],
      "metadata": {
        "id": "u1_K38fl6Sz2"
      }
    },
    {
      "cell_type": "code",
      "source": [
        "def evaluateCluster(golden_labels, cluster_labels):\n",
        "  cluster_labels = [str(label) for label in cluster_labels]\n",
        "  #Este diccionario será un primer mapeo inicial para traducir las clases a formato numérico y vieversa\n",
        "  traduccion = {\n",
        "      0: \"comp.sys.ibm.pc.hardware\",\n",
        "      1: \"comp.sys.mac.hardware\",\n",
        "      2: \"rec.autos\",\n",
        "      3: \"rec.sport.hockey\",\n",
        "      4: \"sci.electronics\",\n",
        "      5: \"talk.politics.guns\",\n",
        "      6: \"talk.politics.mideast\"\n",
        "  }\n",
        "\n",
        "  # Convertir las etiquetas de cluster_labels a las clases reales\n",
        "  mapped_cluster_labels = [traduccion[int(label)] for label in cluster_labels]\n",
        "\n",
        "  # Matriz de confusión y obtener la relación de cluster a clase que maximiza la similitud\n",
        "  conf_matrix = confusion_matrix(golden_labels, mapped_cluster_labels)\n",
        "  class_ind, cluster_ind = linear_sum_assignment(-conf_matrix)\n",
        "\n",
        "  # Crear un mapeo entre Cluster y las etiquetas reales\n",
        "  mapping = {v:k for k, v in zip(class_ind, cluster_ind)}\n",
        "  mapped_labels = [traduccion[mapping[int(label)]] for label in cluster_labels]\n",
        "\n",
        "  #Construimos los resultados de la función\n",
        "  report = classification_report(golden_labels, mapped_labels, output_dict=True)\n",
        "  cm=confusion_matrix(golden_labels, mapped_labels)\n",
        "  precision_macro = report['macro avg']['precision']\n",
        "  recall_macro = report['macro avg']['recall']\n",
        "  f1_macro = report['macro avg']['f1-score']\n",
        "\n",
        "  return np.array([precision_macro, recall_macro, f1_macro]), cm"
      ],
      "metadata": {
        "id": "er2QiNGt6WbN"
      },
      "execution_count": 22,
      "outputs": []
    },
    {
      "cell_type": "markdown",
      "source": [
        "### K-Means"
      ],
      "metadata": {
        "id": "zeAJ8dV3_D59"
      }
    },
    {
      "cell_type": "code",
      "source": [
        "\n",
        "vectorizer = CountVectorizer()\n",
        "X_tf = vectorizer.fit_transform(textos)\n",
        "# Aplicar K-means con 7 clusters\n",
        "kmeans1 = KMeans(n_clusters=7, random_state=42)\n",
        "kmeans1.fit(X_tf)\n",
        "\n",
        "#Evaluacion\n",
        "evaluateCluster(golden_labels,kmeans1.labels_)"
      ],
      "metadata": {
        "colab": {
          "base_uri": "https://localhost:8080/"
        },
        "id": "Bk_vbWKX_H82",
        "outputId": "a59d9005-4e6e-4ac3-c8da-efe6c830758d"
      },
      "execution_count": 23,
      "outputs": [
        {
          "output_type": "execute_result",
          "data": {
            "text/plain": [
              "(array([0.6084855 , 0.14911254, 0.07247422]),\n",
              " array([[  0,   0,   0,   0, 127,   0,   0],\n",
              "        [  0,   1,   0,   0, 142,   0,   0],\n",
              "        [  0,   0,   0,   0,  64,   0,   0],\n",
              "        [  1,   0,   1,   1,  47,   0,   0],\n",
              "        [  0,   0,   1,   0, 207,   0,   0],\n",
              "        [  0,   0,   0,   0, 144,   1,   0],\n",
              "        [  0,   0,   0,   0,  67,   0,   1]]))"
            ]
          },
          "metadata": {},
          "execution_count": 23
        }
      ]
    },
    {
      "cell_type": "code",
      "source": [
        "vectorizer = TfidfVectorizer(\n",
        "    max_df=400,\n",
        "    min_df=20,\n",
        "    stop_words=\"english\",\n",
        ")\n",
        "X_tfidf = vectorizer.fit_transform(textos)\n",
        "kmeans2 = KMeans(n_clusters=7, random_state=42)\n",
        "kmeans2.fit(X_tfidf)\n",
        "evaluateCluster(golden_labels,kmeans2.labels_)"
      ],
      "metadata": {
        "colab": {
          "base_uri": "https://localhost:8080/"
        },
        "id": "VOLPKh54gkh7",
        "outputId": "3cc08c57-9abb-4d28-d7b3-9e02a9bcb6d5"
      },
      "execution_count": 24,
      "outputs": [
        {
          "output_type": "execute_result",
          "data": {
            "text/plain": [
              "(array([0.17323868, 0.17786142, 0.17293659]),\n",
              " array([[26, 28,  8, 16, 23, 18,  8],\n",
              "        [20, 43, 10, 11, 26, 24,  9],\n",
              "        [ 7, 16,  6,  7,  8, 15,  5],\n",
              "        [11,  9,  2,  6,  9,  6,  7],\n",
              "        [38, 42, 21, 11, 37, 29, 30],\n",
              "        [24, 31, 13, 13, 24, 27, 13],\n",
              "        [10, 15,  3,  8, 14,  7, 11]]))"
            ]
          },
          "metadata": {},
          "execution_count": 24
        }
      ]
    },
    {
      "cell_type": "code",
      "source": [
        "# Crear el vectorizador con binarización\n",
        "vectorizer = CountVectorizer(binary=True, stop_words='english')\n",
        "\n",
        "# Ajustar y transformar el conjunto de datos de texto\n",
        "X_bin = vectorizer.fit_transform(textos)\n",
        "kmeans3 = KMeans(n_clusters=7, random_state=42)\n",
        "kmeans3.fit(X_bin)"
      ],
      "metadata": {
        "id": "S4Hq7XAWnnKf",
        "colab": {
          "base_uri": "https://localhost:8080/",
          "height": 80
        },
        "outputId": "86f3a47c-5025-40b4-b96d-a9fa49df7fe1"
      },
      "execution_count": 25,
      "outputs": [
        {
          "output_type": "execute_result",
          "data": {
            "text/plain": [
              "KMeans(n_clusters=7, random_state=42)"
            ],
            "text/html": [
              "<style>#sk-container-id-1 {\n",
              "  /* Definition of color scheme common for light and dark mode */\n",
              "  --sklearn-color-text: #000;\n",
              "  --sklearn-color-text-muted: #666;\n",
              "  --sklearn-color-line: gray;\n",
              "  /* Definition of color scheme for unfitted estimators */\n",
              "  --sklearn-color-unfitted-level-0: #fff5e6;\n",
              "  --sklearn-color-unfitted-level-1: #f6e4d2;\n",
              "  --sklearn-color-unfitted-level-2: #ffe0b3;\n",
              "  --sklearn-color-unfitted-level-3: chocolate;\n",
              "  /* Definition of color scheme for fitted estimators */\n",
              "  --sklearn-color-fitted-level-0: #f0f8ff;\n",
              "  --sklearn-color-fitted-level-1: #d4ebff;\n",
              "  --sklearn-color-fitted-level-2: #b3dbfd;\n",
              "  --sklearn-color-fitted-level-3: cornflowerblue;\n",
              "\n",
              "  /* Specific color for light theme */\n",
              "  --sklearn-color-text-on-default-background: var(--sg-text-color, var(--theme-code-foreground, var(--jp-content-font-color1, black)));\n",
              "  --sklearn-color-background: var(--sg-background-color, var(--theme-background, var(--jp-layout-color0, white)));\n",
              "  --sklearn-color-border-box: var(--sg-text-color, var(--theme-code-foreground, var(--jp-content-font-color1, black)));\n",
              "  --sklearn-color-icon: #696969;\n",
              "\n",
              "  @media (prefers-color-scheme: dark) {\n",
              "    /* Redefinition of color scheme for dark theme */\n",
              "    --sklearn-color-text-on-default-background: var(--sg-text-color, var(--theme-code-foreground, var(--jp-content-font-color1, white)));\n",
              "    --sklearn-color-background: var(--sg-background-color, var(--theme-background, var(--jp-layout-color0, #111)));\n",
              "    --sklearn-color-border-box: var(--sg-text-color, var(--theme-code-foreground, var(--jp-content-font-color1, white)));\n",
              "    --sklearn-color-icon: #878787;\n",
              "  }\n",
              "}\n",
              "\n",
              "#sk-container-id-1 {\n",
              "  color: var(--sklearn-color-text);\n",
              "}\n",
              "\n",
              "#sk-container-id-1 pre {\n",
              "  padding: 0;\n",
              "}\n",
              "\n",
              "#sk-container-id-1 input.sk-hidden--visually {\n",
              "  border: 0;\n",
              "  clip: rect(1px 1px 1px 1px);\n",
              "  clip: rect(1px, 1px, 1px, 1px);\n",
              "  height: 1px;\n",
              "  margin: -1px;\n",
              "  overflow: hidden;\n",
              "  padding: 0;\n",
              "  position: absolute;\n",
              "  width: 1px;\n",
              "}\n",
              "\n",
              "#sk-container-id-1 div.sk-dashed-wrapped {\n",
              "  border: 1px dashed var(--sklearn-color-line);\n",
              "  margin: 0 0.4em 0.5em 0.4em;\n",
              "  box-sizing: border-box;\n",
              "  padding-bottom: 0.4em;\n",
              "  background-color: var(--sklearn-color-background);\n",
              "}\n",
              "\n",
              "#sk-container-id-1 div.sk-container {\n",
              "  /* jupyter's `normalize.less` sets `[hidden] { display: none; }`\n",
              "     but bootstrap.min.css set `[hidden] { display: none !important; }`\n",
              "     so we also need the `!important` here to be able to override the\n",
              "     default hidden behavior on the sphinx rendered scikit-learn.org.\n",
              "     See: https://github.com/scikit-learn/scikit-learn/issues/21755 */\n",
              "  display: inline-block !important;\n",
              "  position: relative;\n",
              "}\n",
              "\n",
              "#sk-container-id-1 div.sk-text-repr-fallback {\n",
              "  display: none;\n",
              "}\n",
              "\n",
              "div.sk-parallel-item,\n",
              "div.sk-serial,\n",
              "div.sk-item {\n",
              "  /* draw centered vertical line to link estimators */\n",
              "  background-image: linear-gradient(var(--sklearn-color-text-on-default-background), var(--sklearn-color-text-on-default-background));\n",
              "  background-size: 2px 100%;\n",
              "  background-repeat: no-repeat;\n",
              "  background-position: center center;\n",
              "}\n",
              "\n",
              "/* Parallel-specific style estimator block */\n",
              "\n",
              "#sk-container-id-1 div.sk-parallel-item::after {\n",
              "  content: \"\";\n",
              "  width: 100%;\n",
              "  border-bottom: 2px solid var(--sklearn-color-text-on-default-background);\n",
              "  flex-grow: 1;\n",
              "}\n",
              "\n",
              "#sk-container-id-1 div.sk-parallel {\n",
              "  display: flex;\n",
              "  align-items: stretch;\n",
              "  justify-content: center;\n",
              "  background-color: var(--sklearn-color-background);\n",
              "  position: relative;\n",
              "}\n",
              "\n",
              "#sk-container-id-1 div.sk-parallel-item {\n",
              "  display: flex;\n",
              "  flex-direction: column;\n",
              "}\n",
              "\n",
              "#sk-container-id-1 div.sk-parallel-item:first-child::after {\n",
              "  align-self: flex-end;\n",
              "  width: 50%;\n",
              "}\n",
              "\n",
              "#sk-container-id-1 div.sk-parallel-item:last-child::after {\n",
              "  align-self: flex-start;\n",
              "  width: 50%;\n",
              "}\n",
              "\n",
              "#sk-container-id-1 div.sk-parallel-item:only-child::after {\n",
              "  width: 0;\n",
              "}\n",
              "\n",
              "/* Serial-specific style estimator block */\n",
              "\n",
              "#sk-container-id-1 div.sk-serial {\n",
              "  display: flex;\n",
              "  flex-direction: column;\n",
              "  align-items: center;\n",
              "  background-color: var(--sklearn-color-background);\n",
              "  padding-right: 1em;\n",
              "  padding-left: 1em;\n",
              "}\n",
              "\n",
              "\n",
              "/* Toggleable style: style used for estimator/Pipeline/ColumnTransformer box that is\n",
              "clickable and can be expanded/collapsed.\n",
              "- Pipeline and ColumnTransformer use this feature and define the default style\n",
              "- Estimators will overwrite some part of the style using the `sk-estimator` class\n",
              "*/\n",
              "\n",
              "/* Pipeline and ColumnTransformer style (default) */\n",
              "\n",
              "#sk-container-id-1 div.sk-toggleable {\n",
              "  /* Default theme specific background. It is overwritten whether we have a\n",
              "  specific estimator or a Pipeline/ColumnTransformer */\n",
              "  background-color: var(--sklearn-color-background);\n",
              "}\n",
              "\n",
              "/* Toggleable label */\n",
              "#sk-container-id-1 label.sk-toggleable__label {\n",
              "  cursor: pointer;\n",
              "  display: flex;\n",
              "  width: 100%;\n",
              "  margin-bottom: 0;\n",
              "  padding: 0.5em;\n",
              "  box-sizing: border-box;\n",
              "  text-align: center;\n",
              "  align-items: start;\n",
              "  justify-content: space-between;\n",
              "  gap: 0.5em;\n",
              "}\n",
              "\n",
              "#sk-container-id-1 label.sk-toggleable__label .caption {\n",
              "  font-size: 0.6rem;\n",
              "  font-weight: lighter;\n",
              "  color: var(--sklearn-color-text-muted);\n",
              "}\n",
              "\n",
              "#sk-container-id-1 label.sk-toggleable__label-arrow:before {\n",
              "  /* Arrow on the left of the label */\n",
              "  content: \"▸\";\n",
              "  float: left;\n",
              "  margin-right: 0.25em;\n",
              "  color: var(--sklearn-color-icon);\n",
              "}\n",
              "\n",
              "#sk-container-id-1 label.sk-toggleable__label-arrow:hover:before {\n",
              "  color: var(--sklearn-color-text);\n",
              "}\n",
              "\n",
              "/* Toggleable content - dropdown */\n",
              "\n",
              "#sk-container-id-1 div.sk-toggleable__content {\n",
              "  max-height: 0;\n",
              "  max-width: 0;\n",
              "  overflow: hidden;\n",
              "  text-align: left;\n",
              "  /* unfitted */\n",
              "  background-color: var(--sklearn-color-unfitted-level-0);\n",
              "}\n",
              "\n",
              "#sk-container-id-1 div.sk-toggleable__content.fitted {\n",
              "  /* fitted */\n",
              "  background-color: var(--sklearn-color-fitted-level-0);\n",
              "}\n",
              "\n",
              "#sk-container-id-1 div.sk-toggleable__content pre {\n",
              "  margin: 0.2em;\n",
              "  border-radius: 0.25em;\n",
              "  color: var(--sklearn-color-text);\n",
              "  /* unfitted */\n",
              "  background-color: var(--sklearn-color-unfitted-level-0);\n",
              "}\n",
              "\n",
              "#sk-container-id-1 div.sk-toggleable__content.fitted pre {\n",
              "  /* unfitted */\n",
              "  background-color: var(--sklearn-color-fitted-level-0);\n",
              "}\n",
              "\n",
              "#sk-container-id-1 input.sk-toggleable__control:checked~div.sk-toggleable__content {\n",
              "  /* Expand drop-down */\n",
              "  max-height: 200px;\n",
              "  max-width: 100%;\n",
              "  overflow: auto;\n",
              "}\n",
              "\n",
              "#sk-container-id-1 input.sk-toggleable__control:checked~label.sk-toggleable__label-arrow:before {\n",
              "  content: \"▾\";\n",
              "}\n",
              "\n",
              "/* Pipeline/ColumnTransformer-specific style */\n",
              "\n",
              "#sk-container-id-1 div.sk-label input.sk-toggleable__control:checked~label.sk-toggleable__label {\n",
              "  color: var(--sklearn-color-text);\n",
              "  background-color: var(--sklearn-color-unfitted-level-2);\n",
              "}\n",
              "\n",
              "#sk-container-id-1 div.sk-label.fitted input.sk-toggleable__control:checked~label.sk-toggleable__label {\n",
              "  background-color: var(--sklearn-color-fitted-level-2);\n",
              "}\n",
              "\n",
              "/* Estimator-specific style */\n",
              "\n",
              "/* Colorize estimator box */\n",
              "#sk-container-id-1 div.sk-estimator input.sk-toggleable__control:checked~label.sk-toggleable__label {\n",
              "  /* unfitted */\n",
              "  background-color: var(--sklearn-color-unfitted-level-2);\n",
              "}\n",
              "\n",
              "#sk-container-id-1 div.sk-estimator.fitted input.sk-toggleable__control:checked~label.sk-toggleable__label {\n",
              "  /* fitted */\n",
              "  background-color: var(--sklearn-color-fitted-level-2);\n",
              "}\n",
              "\n",
              "#sk-container-id-1 div.sk-label label.sk-toggleable__label,\n",
              "#sk-container-id-1 div.sk-label label {\n",
              "  /* The background is the default theme color */\n",
              "  color: var(--sklearn-color-text-on-default-background);\n",
              "}\n",
              "\n",
              "/* On hover, darken the color of the background */\n",
              "#sk-container-id-1 div.sk-label:hover label.sk-toggleable__label {\n",
              "  color: var(--sklearn-color-text);\n",
              "  background-color: var(--sklearn-color-unfitted-level-2);\n",
              "}\n",
              "\n",
              "/* Label box, darken color on hover, fitted */\n",
              "#sk-container-id-1 div.sk-label.fitted:hover label.sk-toggleable__label.fitted {\n",
              "  color: var(--sklearn-color-text);\n",
              "  background-color: var(--sklearn-color-fitted-level-2);\n",
              "}\n",
              "\n",
              "/* Estimator label */\n",
              "\n",
              "#sk-container-id-1 div.sk-label label {\n",
              "  font-family: monospace;\n",
              "  font-weight: bold;\n",
              "  display: inline-block;\n",
              "  line-height: 1.2em;\n",
              "}\n",
              "\n",
              "#sk-container-id-1 div.sk-label-container {\n",
              "  text-align: center;\n",
              "}\n",
              "\n",
              "/* Estimator-specific */\n",
              "#sk-container-id-1 div.sk-estimator {\n",
              "  font-family: monospace;\n",
              "  border: 1px dotted var(--sklearn-color-border-box);\n",
              "  border-radius: 0.25em;\n",
              "  box-sizing: border-box;\n",
              "  margin-bottom: 0.5em;\n",
              "  /* unfitted */\n",
              "  background-color: var(--sklearn-color-unfitted-level-0);\n",
              "}\n",
              "\n",
              "#sk-container-id-1 div.sk-estimator.fitted {\n",
              "  /* fitted */\n",
              "  background-color: var(--sklearn-color-fitted-level-0);\n",
              "}\n",
              "\n",
              "/* on hover */\n",
              "#sk-container-id-1 div.sk-estimator:hover {\n",
              "  /* unfitted */\n",
              "  background-color: var(--sklearn-color-unfitted-level-2);\n",
              "}\n",
              "\n",
              "#sk-container-id-1 div.sk-estimator.fitted:hover {\n",
              "  /* fitted */\n",
              "  background-color: var(--sklearn-color-fitted-level-2);\n",
              "}\n",
              "\n",
              "/* Specification for estimator info (e.g. \"i\" and \"?\") */\n",
              "\n",
              "/* Common style for \"i\" and \"?\" */\n",
              "\n",
              ".sk-estimator-doc-link,\n",
              "a:link.sk-estimator-doc-link,\n",
              "a:visited.sk-estimator-doc-link {\n",
              "  float: right;\n",
              "  font-size: smaller;\n",
              "  line-height: 1em;\n",
              "  font-family: monospace;\n",
              "  background-color: var(--sklearn-color-background);\n",
              "  border-radius: 1em;\n",
              "  height: 1em;\n",
              "  width: 1em;\n",
              "  text-decoration: none !important;\n",
              "  margin-left: 0.5em;\n",
              "  text-align: center;\n",
              "  /* unfitted */\n",
              "  border: var(--sklearn-color-unfitted-level-1) 1pt solid;\n",
              "  color: var(--sklearn-color-unfitted-level-1);\n",
              "}\n",
              "\n",
              ".sk-estimator-doc-link.fitted,\n",
              "a:link.sk-estimator-doc-link.fitted,\n",
              "a:visited.sk-estimator-doc-link.fitted {\n",
              "  /* fitted */\n",
              "  border: var(--sklearn-color-fitted-level-1) 1pt solid;\n",
              "  color: var(--sklearn-color-fitted-level-1);\n",
              "}\n",
              "\n",
              "/* On hover */\n",
              "div.sk-estimator:hover .sk-estimator-doc-link:hover,\n",
              ".sk-estimator-doc-link:hover,\n",
              "div.sk-label-container:hover .sk-estimator-doc-link:hover,\n",
              ".sk-estimator-doc-link:hover {\n",
              "  /* unfitted */\n",
              "  background-color: var(--sklearn-color-unfitted-level-3);\n",
              "  color: var(--sklearn-color-background);\n",
              "  text-decoration: none;\n",
              "}\n",
              "\n",
              "div.sk-estimator.fitted:hover .sk-estimator-doc-link.fitted:hover,\n",
              ".sk-estimator-doc-link.fitted:hover,\n",
              "div.sk-label-container:hover .sk-estimator-doc-link.fitted:hover,\n",
              ".sk-estimator-doc-link.fitted:hover {\n",
              "  /* fitted */\n",
              "  background-color: var(--sklearn-color-fitted-level-3);\n",
              "  color: var(--sklearn-color-background);\n",
              "  text-decoration: none;\n",
              "}\n",
              "\n",
              "/* Span, style for the box shown on hovering the info icon */\n",
              ".sk-estimator-doc-link span {\n",
              "  display: none;\n",
              "  z-index: 9999;\n",
              "  position: relative;\n",
              "  font-weight: normal;\n",
              "  right: .2ex;\n",
              "  padding: .5ex;\n",
              "  margin: .5ex;\n",
              "  width: min-content;\n",
              "  min-width: 20ex;\n",
              "  max-width: 50ex;\n",
              "  color: var(--sklearn-color-text);\n",
              "  box-shadow: 2pt 2pt 4pt #999;\n",
              "  /* unfitted */\n",
              "  background: var(--sklearn-color-unfitted-level-0);\n",
              "  border: .5pt solid var(--sklearn-color-unfitted-level-3);\n",
              "}\n",
              "\n",
              ".sk-estimator-doc-link.fitted span {\n",
              "  /* fitted */\n",
              "  background: var(--sklearn-color-fitted-level-0);\n",
              "  border: var(--sklearn-color-fitted-level-3);\n",
              "}\n",
              "\n",
              ".sk-estimator-doc-link:hover span {\n",
              "  display: block;\n",
              "}\n",
              "\n",
              "/* \"?\"-specific style due to the `<a>` HTML tag */\n",
              "\n",
              "#sk-container-id-1 a.estimator_doc_link {\n",
              "  float: right;\n",
              "  font-size: 1rem;\n",
              "  line-height: 1em;\n",
              "  font-family: monospace;\n",
              "  background-color: var(--sklearn-color-background);\n",
              "  border-radius: 1rem;\n",
              "  height: 1rem;\n",
              "  width: 1rem;\n",
              "  text-decoration: none;\n",
              "  /* unfitted */\n",
              "  color: var(--sklearn-color-unfitted-level-1);\n",
              "  border: var(--sklearn-color-unfitted-level-1) 1pt solid;\n",
              "}\n",
              "\n",
              "#sk-container-id-1 a.estimator_doc_link.fitted {\n",
              "  /* fitted */\n",
              "  border: var(--sklearn-color-fitted-level-1) 1pt solid;\n",
              "  color: var(--sklearn-color-fitted-level-1);\n",
              "}\n",
              "\n",
              "/* On hover */\n",
              "#sk-container-id-1 a.estimator_doc_link:hover {\n",
              "  /* unfitted */\n",
              "  background-color: var(--sklearn-color-unfitted-level-3);\n",
              "  color: var(--sklearn-color-background);\n",
              "  text-decoration: none;\n",
              "}\n",
              "\n",
              "#sk-container-id-1 a.estimator_doc_link.fitted:hover {\n",
              "  /* fitted */\n",
              "  background-color: var(--sklearn-color-fitted-level-3);\n",
              "}\n",
              "</style><div id=\"sk-container-id-1\" class=\"sk-top-container\"><div class=\"sk-text-repr-fallback\"><pre>KMeans(n_clusters=7, random_state=42)</pre><b>In a Jupyter environment, please rerun this cell to show the HTML representation or trust the notebook. <br />On GitHub, the HTML representation is unable to render, please try loading this page with nbviewer.org.</b></div><div class=\"sk-container\" hidden><div class=\"sk-item\"><div class=\"sk-estimator fitted sk-toggleable\"><input class=\"sk-toggleable__control sk-hidden--visually\" id=\"sk-estimator-id-1\" type=\"checkbox\" checked><label for=\"sk-estimator-id-1\" class=\"sk-toggleable__label fitted sk-toggleable__label-arrow\"><div><div>KMeans</div></div><div><a class=\"sk-estimator-doc-link fitted\" rel=\"noreferrer\" target=\"_blank\" href=\"https://scikit-learn.org/1.6/modules/generated/sklearn.cluster.KMeans.html\">?<span>Documentation for KMeans</span></a><span class=\"sk-estimator-doc-link fitted\">i<span>Fitted</span></span></div></label><div class=\"sk-toggleable__content fitted\"><pre>KMeans(n_clusters=7, random_state=42)</pre></div> </div></div></div></div>"
            ]
          },
          "metadata": {},
          "execution_count": 25
        }
      ]
    },
    {
      "cell_type": "code",
      "source": [
        "cluster_labels_km3=kmeans3.labels_\n",
        "evaluateCluster(golden_labels,cluster_labels_km3)"
      ],
      "metadata": {
        "colab": {
          "base_uri": "https://localhost:8080/"
        },
        "id": "DRe74zp1ujFX",
        "outputId": "837a5200-d4e4-4a10-ed6d-9d425c2eddd0"
      },
      "execution_count": 26,
      "outputs": [
        {
          "output_type": "execute_result",
          "data": {
            "text/plain": [
              "(array([0.41565305, 0.14638746, 0.07373109]),\n",
              " array([[  2,   0,   0,   0, 125,   0,   0],\n",
              "        [  1,   1,   0,   0, 141,   0,   0],\n",
              "        [  0,   0,   1,   0,  62,   1,   0],\n",
              "        [  1,   0,   0,   1,  47,   0,   1],\n",
              "        [  6,   0,   0,   1, 201,   0,   0],\n",
              "        [  1,   0,   0,   0, 144,   0,   0],\n",
              "        [  2,   0,   0,   0,  66,   0,   0]]))"
            ]
          },
          "metadata": {},
          "execution_count": 26
        }
      ]
    },
    {
      "cell_type": "markdown",
      "source": [
        "### Modelo Aglomerativo"
      ],
      "metadata": {
        "id": "JhtNziaEM9FN"
      }
    },
    {
      "cell_type": "code",
      "source": [
        "modelo = AgglomerativeClustering(n_clusters=7, linkage='ward')\n",
        "X_tf = X_tf.toarray()\n",
        "cluster_labels_ag1 = modelo.fit_predict(X_tf)\n",
        "evaluateCluster(golden_labels,cluster_labels_ag1)"
      ],
      "metadata": {
        "colab": {
          "base_uri": "https://localhost:8080/"
        },
        "id": "QKAUQ-VKNEVl",
        "outputId": "41a8eded-1bde-4aca-9f56-9f62f75c9cfd"
      },
      "execution_count": 27,
      "outputs": [
        {
          "output_type": "execute_result",
          "data": {
            "text/plain": [
              "(array([0.39763044, 0.14658294, 0.07615588]),\n",
              " array([[  1,   0,   0,   0, 123,   3,   0],\n",
              "        [  0,   1,   0,   0, 139,   3,   0],\n",
              "        [  0,   0,   0,   0,  60,   4,   0],\n",
              "        [  1,   0,   0,   1,  45,   2,   1],\n",
              "        [  1,   0,   1,   0, 199,   7,   0],\n",
              "        [  0,   0,   0,   0, 140,   5,   0],\n",
              "        [  0,   0,   0,   0,  66,   2,   0]]))"
            ]
          },
          "metadata": {},
          "execution_count": 27
        }
      ]
    },
    {
      "cell_type": "code",
      "source": [
        "X_tfidf=X_tfidf.toarray()\n",
        "cluster_labels_ag2 = modelo.fit_predict(X_tfidf)\n",
        "evaluateCluster(golden_labels,cluster_labels_ag2)"
      ],
      "metadata": {
        "colab": {
          "base_uri": "https://localhost:8080/"
        },
        "id": "fXajDcVXK5e-",
        "outputId": "8779bd3c-ad97-423e-98b1-d5fbe6b9a7c7"
      },
      "execution_count": 28,
      "outputs": [
        {
          "output_type": "execute_result",
          "data": {
            "text/plain": [
              "(array([0.20150647, 0.16759464, 0.14762503]),\n",
              " array([[ 28,  26,   0,   0,  70,   2,   1],\n",
              "        [ 22,  29,   2,   2,  82,   2,   4],\n",
              "        [ 10,  13,   1,   1,  38,   1,   0],\n",
              "        [  9,   6,   1,   2,  30,   1,   1],\n",
              "        [ 32,  31,   4,   5, 125,   8,   3],\n",
              "        [ 23,  19,   3,   1,  89,   5,   5],\n",
              "        [ 14,   7,   1,   2,  40,   0,   4]]))"
            ]
          },
          "metadata": {},
          "execution_count": 28
        }
      ]
    },
    {
      "cell_type": "code",
      "source": [
        "X_bin=X_bin.toarray()\n",
        "cluster_labels_ag3 = modelo.fit_predict(X_bin)\n",
        "evaluateCluster(golden_labels,cluster_labels_ag3)"
      ],
      "metadata": {
        "colab": {
          "base_uri": "https://localhost:8080/"
        },
        "id": "IVPOE5pqkFAG",
        "outputId": "4740ce5a-1866-4626-ee2a-09667293a4a1"
      },
      "execution_count": 29,
      "outputs": [
        {
          "output_type": "execute_result",
          "data": {
            "text/plain": [
              "(array([0.53659815, 0.16099927, 0.10238742]),\n",
              " array([[ 24,   0,   1,   0, 102,   0,   0],\n",
              "        [ 16,   1,   0,   0, 126,   0,   0],\n",
              "        [  8,   0,   0,   0,  56,   0,   0],\n",
              "        [  8,   0,   1,   1,  39,   1,   0],\n",
              "        [ 20,   0,   1,   0, 185,   2,   0],\n",
              "        [ 12,   0,   0,   0, 132,   1,   0],\n",
              "        [ 12,   0,   0,   0,  55,   0,   1]]))"
            ]
          },
          "metadata": {},
          "execution_count": 29
        }
      ]
    }
  ]
}